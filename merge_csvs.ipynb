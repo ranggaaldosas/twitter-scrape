{
 "cells": [
  {
   "cell_type": "code",
   "execution_count": 1,
   "metadata": {},
   "outputs": [],
   "source": [
    "import pandas as pd"
   ]
  },
  {
   "cell_type": "code",
   "execution_count": 2,
   "metadata": {},
   "outputs": [],
   "source": [
    "df_indo = pd.read_csv(\"./scrape_results/indo_5.csv\", sep=\";\")"
   ]
  },
  {
   "cell_type": "code",
   "execution_count": 3,
   "metadata": {},
   "outputs": [
    {
     "data": {
      "text/html": [
       "<div>\n",
       "<style scoped>\n",
       "    .dataframe tbody tr th:only-of-type {\n",
       "        vertical-align: middle;\n",
       "    }\n",
       "\n",
       "    .dataframe tbody tr th {\n",
       "        vertical-align: top;\n",
       "    }\n",
       "\n",
       "    .dataframe thead th {\n",
       "        text-align: right;\n",
       "    }\n",
       "</style>\n",
       "<table border=\"1\" class=\"dataframe\">\n",
       "  <thead>\n",
       "    <tr style=\"text-align: right;\">\n",
       "      <th></th>\n",
       "      <th>created_at</th>\n",
       "      <th>id_str</th>\n",
       "      <th>full_text</th>\n",
       "      <th>quote_count</th>\n",
       "      <th>reply_count</th>\n",
       "      <th>retweet_count</th>\n",
       "      <th>favorite_count</th>\n",
       "      <th>lang</th>\n",
       "      <th>user_id_str</th>\n",
       "      <th>conversation_id_str</th>\n",
       "      <th>username</th>\n",
       "      <th>tweet_url</th>\n",
       "    </tr>\n",
       "  </thead>\n",
       "  <tbody>\n",
       "    <tr>\n",
       "      <th>0</th>\n",
       "      <td>Wed Jan 06 04:08:12 +0000 2021</td>\n",
       "      <td>1346669871891849216</td>\n",
       "      <td>namun lihat hasil nya, Bu Risma, wanita tua yg...</td>\n",
       "      <td>0</td>\n",
       "      <td>0</td>\n",
       "      <td>0</td>\n",
       "      <td>0</td>\n",
       "      <td>in</td>\n",
       "      <td>1227589641252917248</td>\n",
       "      <td>1346669871891849216</td>\n",
       "      <td>underdo55595692</td>\n",
       "      <td>https://twitter.com/underdo55595692/status/134...</td>\n",
       "    </tr>\n",
       "    <tr>\n",
       "      <th>1</th>\n",
       "      <td>Mon Jan 04 09:29:04 +0000 2021</td>\n",
       "      <td>1346025846440480768</td>\n",
       "      <td>Aku yg dari awal gk percaya dgn covid, Tad pas...</td>\n",
       "      <td>0</td>\n",
       "      <td>0</td>\n",
       "      <td>0</td>\n",
       "      <td>0</td>\n",
       "      <td>in</td>\n",
       "      <td>723545344148013058</td>\n",
       "      <td>1346025846440480768</td>\n",
       "      <td>khoirul0504</td>\n",
       "      <td>https://twitter.com/khoirul0504/status/1346025...</td>\n",
       "    </tr>\n",
       "    <tr>\n",
       "      <th>2</th>\n",
       "      <td>Wed Dec 30 10:11:37 +0000 2020</td>\n",
       "      <td>1344224615527116801</td>\n",
       "      <td>@SuwandaBen @fadlizon @Roskafe1 Jancok !! Cang...</td>\n",
       "      <td>0</td>\n",
       "      <td>1</td>\n",
       "      <td>0</td>\n",
       "      <td>0</td>\n",
       "      <td>in</td>\n",
       "      <td>1273864261391933442</td>\n",
       "      <td>1344141426716602371</td>\n",
       "      <td>AchmadS86871449</td>\n",
       "      <td>https://twitter.com/AchmadS86871449/status/134...</td>\n",
       "    </tr>\n",
       "    <tr>\n",
       "      <th>3</th>\n",
       "      <td>Fri May 29 19:36:13 +0000 2020</td>\n",
       "      <td>1266453309373603840</td>\n",
       "      <td>@ahongjawa @IkiJuned @Muji78015926 Astaga kek ...</td>\n",
       "      <td>0</td>\n",
       "      <td>4</td>\n",
       "      <td>0</td>\n",
       "      <td>9</td>\n",
       "      <td>in</td>\n",
       "      <td>1248103223279288322</td>\n",
       "      <td>1266423392481054721</td>\n",
       "      <td>MieSedaapAja</td>\n",
       "      <td>https://twitter.com/MieSedaapAja/status/126645...</td>\n",
       "    </tr>\n",
       "    <tr>\n",
       "      <th>4</th>\n",
       "      <td>Fri May 22 14:59:47 +0000 2020</td>\n",
       "      <td>1263847030163533826</td>\n",
       "      <td>heh surabaya sehari doang udah 300 org yg posi...</td>\n",
       "      <td>0</td>\n",
       "      <td>1</td>\n",
       "      <td>0</td>\n",
       "      <td>0</td>\n",
       "      <td>in</td>\n",
       "      <td>249539478</td>\n",
       "      <td>1263847030163533826</td>\n",
       "      <td>kdyowoo</td>\n",
       "      <td>https://twitter.com/kdyowoo/status/12638470301...</td>\n",
       "    </tr>\n",
       "  </tbody>\n",
       "</table>\n",
       "</div>"
      ],
      "text/plain": [
       "                       created_at               id_str  \\\n",
       "0  Wed Jan 06 04:08:12 +0000 2021  1346669871891849216   \n",
       "1  Mon Jan 04 09:29:04 +0000 2021  1346025846440480768   \n",
       "2  Wed Dec 30 10:11:37 +0000 2020  1344224615527116801   \n",
       "3  Fri May 29 19:36:13 +0000 2020  1266453309373603840   \n",
       "4  Fri May 22 14:59:47 +0000 2020  1263847030163533826   \n",
       "\n",
       "                                           full_text  quote_count  \\\n",
       "0  namun lihat hasil nya, Bu Risma, wanita tua yg...            0   \n",
       "1  Aku yg dari awal gk percaya dgn covid, Tad pas...            0   \n",
       "2  @SuwandaBen @fadlizon @Roskafe1 Jancok !! Cang...            0   \n",
       "3  @ahongjawa @IkiJuned @Muji78015926 Astaga kek ...            0   \n",
       "4  heh surabaya sehari doang udah 300 org yg posi...            0   \n",
       "\n",
       "   reply_count  retweet_count  favorite_count lang          user_id_str  \\\n",
       "0            0              0               0   in  1227589641252917248   \n",
       "1            0              0               0   in   723545344148013058   \n",
       "2            1              0               0   in  1273864261391933442   \n",
       "3            4              0               9   in  1248103223279288322   \n",
       "4            1              0               0   in            249539478   \n",
       "\n",
       "   conversation_id_str         username  \\\n",
       "0  1346669871891849216  underdo55595692   \n",
       "1  1346025846440480768      khoirul0504   \n",
       "2  1344141426716602371  AchmadS86871449   \n",
       "3  1266423392481054721     MieSedaapAja   \n",
       "4  1263847030163533826          kdyowoo   \n",
       "\n",
       "                                           tweet_url  \n",
       "0  https://twitter.com/underdo55595692/status/134...  \n",
       "1  https://twitter.com/khoirul0504/status/1346025...  \n",
       "2  https://twitter.com/AchmadS86871449/status/134...  \n",
       "3  https://twitter.com/MieSedaapAja/status/126645...  \n",
       "4  https://twitter.com/kdyowoo/status/12638470301...  "
      ]
     },
     "execution_count": 3,
     "metadata": {},
     "output_type": "execute_result"
    }
   ],
   "source": [
    "df_indo.head()"
   ]
  },
  {
   "cell_type": "code",
   "execution_count": 10,
   "metadata": {},
   "outputs": [
    {
     "name": "stdout",
     "output_type": "stream",
     "text": [
      "<class 'pandas.core.frame.DataFrame'>\n",
      "RangeIndex: 5 entries, 0 to 4\n",
      "Data columns (total 12 columns):\n",
      " #   Column               Non-Null Count  Dtype \n",
      "---  ------               --------------  ----- \n",
      " 0   created_at           5 non-null      object\n",
      " 1   id_str               5 non-null      int64 \n",
      " 2   full_text            5 non-null      object\n",
      " 3   quote_count          5 non-null      int64 \n",
      " 4   reply_count          5 non-null      int64 \n",
      " 5   retweet_count        5 non-null      int64 \n",
      " 6   favorite_count       5 non-null      int64 \n",
      " 7   lang                 5 non-null      object\n",
      " 8   user_id_str          5 non-null      int64 \n",
      " 9   conversation_id_str  5 non-null      int64 \n",
      " 10  username             5 non-null      object\n",
      " 11  tweet_url            5 non-null      object\n",
      "dtypes: int64(7), object(5)\n",
      "memory usage: 612.0+ bytes\n"
     ]
    }
   ],
   "source": [
    "df_indo.info()"
   ]
  },
  {
   "cell_type": "code",
   "execution_count": 4,
   "metadata": {},
   "outputs": [
    {
     "name": "stdout",
     "output_type": "stream",
     "text": [
      "Indeks baris dengan nilai float di kolom 'text': Index([], dtype='int64')\n",
      "Empty DataFrame\n",
      "Columns: [created_at, id_str, full_text, quote_count, reply_count, retweet_count, favorite_count, lang, user_id_str, conversation_id_str, username, tweet_url]\n",
      "Index: []\n"
     ]
    }
   ],
   "source": [
    "# Cari indeks baris di mana kolom 'text' memiliki tipe data float\n",
    "float_indices = df_indo[\n",
    "    df_indo[\"full_text\"].apply(lambda x: isinstance(x, float))\n",
    "].index\n",
    "\n",
    "# Tampilkan baris dengan nilai float\n",
    "print(\"Indeks baris dengan nilai float di kolom 'text':\", float_indices)\n",
    "\n",
    "# Opsional: Tampilkan data dari baris-baris tersebut\n",
    "print(df_indo.loc[float_indices])"
   ]
  },
  {
   "cell_type": "code",
   "execution_count": 6,
   "metadata": {},
   "outputs": [],
   "source": [
    "# Read the CSV files\n",
    "df1 = pd.read_csv(\"./scrape_results/dataset_covidsurabaya_merged.csv\", sep=\";\")\n",
    "df_indo = pd.read_csv(\"./scrape_results/indo_5.csv\", sep=\";\")\n",
    "\n",
    "# Concatenate the dataframes\n",
    "merged_df = pd.concat([df1, df_indo], ignore_index=True)\n",
    "\n",
    "# Save the merged dataframe to a new CSV\n",
    "merged_df.to_csv(\"./scrape_results/dataset_covidsurabaya.csv\", index=False)"
   ]
  },
  {
   "cell_type": "code",
   "execution_count": 11,
   "metadata": {},
   "outputs": [
    {
     "name": "stdout",
     "output_type": "stream",
     "text": [
      "<class 'pandas.core.frame.DataFrame'>\n",
      "RangeIndex: 1725 entries, 0 to 1724\n",
      "Data columns (total 12 columns):\n",
      " #   Column               Non-Null Count  Dtype  \n",
      "---  ------               --------------  -----  \n",
      " 0   created_at           1725 non-null   object \n",
      " 1   id_str               1724 non-null   object \n",
      " 2   full_text            1721 non-null   object \n",
      " 3   quote_count          1720 non-null   float64\n",
      " 4   reply_count          1720 non-null   float64\n",
      " 5   retweet_count        1720 non-null   float64\n",
      " 6   favorite_count       1720 non-null   float64\n",
      " 7   lang                 1720 non-null   object \n",
      " 8   user_id_str          1720 non-null   float64\n",
      " 9   conversation_id_str  1720 non-null   float64\n",
      " 10  username             1720 non-null   object \n",
      " 11  tweet_url            1720 non-null   object \n",
      "dtypes: float64(6), object(6)\n",
      "memory usage: 161.8+ KB\n"
     ]
    }
   ],
   "source": [
    "df1.info()"
   ]
  },
  {
   "cell_type": "code",
   "execution_count": 7,
   "metadata": {},
   "outputs": [
    {
     "name": "stdout",
     "output_type": "stream",
     "text": [
      "<class 'pandas.core.frame.DataFrame'>\n",
      "RangeIndex: 1730 entries, 0 to 1729\n",
      "Data columns (total 12 columns):\n",
      " #   Column               Non-Null Count  Dtype  \n",
      "---  ------               --------------  -----  \n",
      " 0   created_at           1730 non-null   object \n",
      " 1   id_str               1729 non-null   object \n",
      " 2   full_text            1726 non-null   object \n",
      " 3   quote_count          1725 non-null   float64\n",
      " 4   reply_count          1725 non-null   float64\n",
      " 5   retweet_count        1725 non-null   float64\n",
      " 6   favorite_count       1725 non-null   float64\n",
      " 7   lang                 1725 non-null   object \n",
      " 8   user_id_str          1725 non-null   float64\n",
      " 9   conversation_id_str  1725 non-null   float64\n",
      " 10  username             1725 non-null   object \n",
      " 11  tweet_url            1725 non-null   object \n",
      "dtypes: float64(6), object(6)\n",
      "memory usage: 162.3+ KB\n"
     ]
    }
   ],
   "source": [
    "merged_df.info()"
   ]
  },
  {
   "cell_type": "code",
   "execution_count": 8,
   "metadata": {},
   "outputs": [
    {
     "name": "stdout",
     "output_type": "stream",
     "text": [
      "Indeks baris dengan nilai float di kolom 'text': Index([1721, 1722, 1723, 1724], dtype='int64')\n",
      "                                             created_at  \\\n",
      "1721  Mon Jan 04 09:29:04 +0000 2021;134602584644048...   \n",
      "1722  Wed Dec 30 10:11:37 +0000 2020;134422461552711...   \n",
      "1723  Fri May 29 19:36:13 +0000 2020;126645330937360...   \n",
      "1724  Fri May 22 14:59:47 +0000 2020;126384703016353...   \n",
      "\n",
      "                                                 id_str full_text  \\\n",
      "1721   Tad pas di test malah hasilnya positif -_- Ti...       NaN   \n",
      "1722    itu kemarin sarat muatan politik sebagai upa...       NaN   \n",
      "1723   GAWE EN MATAMU IKU PEMPROV NGAJOKNO SURAT GAW...       NaN   \n",
      "1724                                                NaN       NaN   \n",
      "\n",
      "      quote_count  reply_count  retweet_count  favorite_count lang  \\\n",
      "1721          NaN          NaN            NaN             NaN  NaN   \n",
      "1722          NaN          NaN            NaN             NaN  NaN   \n",
      "1723          NaN          NaN            NaN             NaN  NaN   \n",
      "1724          NaN          NaN            NaN             NaN  NaN   \n",
      "\n",
      "      user_id_str  conversation_id_str username tweet_url  \n",
      "1721          NaN                  NaN      NaN       NaN  \n",
      "1722          NaN                  NaN      NaN       NaN  \n",
      "1723          NaN                  NaN      NaN       NaN  \n",
      "1724          NaN                  NaN      NaN       NaN  \n"
     ]
    }
   ],
   "source": [
    "# Cari indeks baris di mana kolom 'text' memiliki tipe data float\n",
    "float_indices = merged_df[\n",
    "    merged_df[\"full_text\"].apply(lambda x: isinstance(x, float))\n",
    "].index\n",
    "\n",
    "# Tampilkan baris dengan nilai float\n",
    "print(\"Indeks baris dengan nilai float di kolom 'text':\", float_indices)\n",
    "\n",
    "# Opsional: Tampilkan data dari baris-baris tersebut\n",
    "print(merged_df.loc[float_indices])"
   ]
  },
  {
   "cell_type": "code",
   "execution_count": null,
   "metadata": {},
   "outputs": [],
   "source": []
  }
 ],
 "metadata": {
  "kernelspec": {
   "display_name": "Python 3",
   "language": "python",
   "name": "python3"
  },
  "language_info": {
   "codemirror_mode": {
    "name": "ipython",
    "version": 3
   },
   "file_extension": ".py",
   "mimetype": "text/x-python",
   "name": "python",
   "nbconvert_exporter": "python",
   "pygments_lexer": "ipython3",
   "version": "3.11.5"
  }
 },
 "nbformat": 4,
 "nbformat_minor": 2
}
