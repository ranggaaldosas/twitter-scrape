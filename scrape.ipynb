{
  "cells": [
    {
      "cell_type": "code",
      "source": [
        "# Your Twitter Auth Token\n",
        "# Where to get?\n",
        "# 1. Signed in -> Inspect\n",
        "# 2. Application tab\n",
        "# 3. In the storage sidebar, choose cookies\n",
        "\n",
        "\n",
        "twitter_auth_token = 'your_own_token'"
      ],
      "metadata": {
        "id": "6S00x_f6-GeD"
      },
      "execution_count": 1,
      "outputs": []
    },
    {
      "cell_type": "code",
      "source": [
        "# Unnecesary cell to run! a simple demonstration to get your auth token\n",
        "!pip install ipython\n",
        "\n",
        "from IPython.display import Image\n",
        "\n",
        "# Display an image from a URL\n",
        "Image(url='https://i.ibb.co/VgKBSMY/Screenshot-6.png')"
      ],
      "metadata": {
        "id": "uTkKHCz34pgS",
        "colab": {
          "base_uri": "https://localhost:8080/",
          "height": 846
        },
        "outputId": "45d68c05-3fd0-414f-d8a4-cb7a718ec8fc"
      },
      "execution_count": 2,
      "outputs": [
        {
          "output_type": "stream",
          "name": "stdout",
          "text": [
            "Requirement already satisfied: ipython in /usr/local/lib/python3.10/dist-packages (7.34.0)\n",
            "Requirement already satisfied: setuptools>=18.5 in /usr/local/lib/python3.10/dist-packages (from ipython) (67.7.2)\n",
            "Requirement already satisfied: jedi>=0.16 in /usr/local/lib/python3.10/dist-packages (from ipython) (0.19.1)\n",
            "Requirement already satisfied: decorator in /usr/local/lib/python3.10/dist-packages (from ipython) (4.4.2)\n",
            "Requirement already satisfied: pickleshare in /usr/local/lib/python3.10/dist-packages (from ipython) (0.7.5)\n",
            "Requirement already satisfied: traitlets>=4.2 in /usr/local/lib/python3.10/dist-packages (from ipython) (5.7.1)\n",
            "Requirement already satisfied: prompt-toolkit!=3.0.0,!=3.0.1,<3.1.0,>=2.0.0 in /usr/local/lib/python3.10/dist-packages (from ipython) (3.0.41)\n",
            "Requirement already satisfied: pygments in /usr/local/lib/python3.10/dist-packages (from ipython) (2.16.1)\n",
            "Requirement already satisfied: backcall in /usr/local/lib/python3.10/dist-packages (from ipython) (0.2.0)\n",
            "Requirement already satisfied: matplotlib-inline in /usr/local/lib/python3.10/dist-packages (from ipython) (0.1.6)\n",
            "Requirement already satisfied: pexpect>4.3 in /usr/local/lib/python3.10/dist-packages (from ipython) (4.9.0)\n",
            "Requirement already satisfied: parso<0.9.0,>=0.8.3 in /usr/local/lib/python3.10/dist-packages (from jedi>=0.16->ipython) (0.8.3)\n",
            "Requirement already satisfied: ptyprocess>=0.5 in /usr/local/lib/python3.10/dist-packages (from pexpect>4.3->ipython) (0.7.0)\n",
            "Requirement already satisfied: wcwidth in /usr/local/lib/python3.10/dist-packages (from prompt-toolkit!=3.0.0,!=3.0.1,<3.1.0,>=2.0.0->ipython) (0.2.12)\n"
          ]
        },
        {
          "output_type": "execute_result",
          "data": {
            "text/html": [
              "<img src=\"https://i.ibb.co/VgKBSMY/Screenshot-6.png\"/>"
            ],
            "text/plain": [
              "<IPython.core.display.Image object>"
            ]
          },
          "metadata": {},
          "execution_count": 2
        }
      ]
    },
    {
      "cell_type": "code",
      "execution_count": 3,
      "metadata": {
        "collapsed": true,
        "id": "4UIL1x21P9rQ",
        "colab": {
          "base_uri": "https://localhost:8080/"
        },
        "outputId": "085a31d7-b566-4c82-a822-52bd9f5a57b8"
      },
      "outputs": [
        {
          "output_type": "stream",
          "name": "stdout",
          "text": [
            "Requirement already satisfied: pandas in /usr/local/lib/python3.10/dist-packages (1.5.3)\n",
            "Requirement already satisfied: python-dateutil>=2.8.1 in /usr/local/lib/python3.10/dist-packages (from pandas) (2.8.2)\n",
            "Requirement already satisfied: pytz>=2020.1 in /usr/local/lib/python3.10/dist-packages (from pandas) (2023.3.post1)\n",
            "Requirement already satisfied: numpy>=1.21.0 in /usr/local/lib/python3.10/dist-packages (from pandas) (1.23.5)\n",
            "Requirement already satisfied: six>=1.5 in /usr/local/lib/python3.10/dist-packages (from python-dateutil>=2.8.1->pandas) (1.16.0)\n",
            "Hit:1 https://cloud.r-project.org/bin/linux/ubuntu jammy-cran40/ InRelease\n",
            "Hit:2 https://developer.download.nvidia.com/compute/cuda/repos/ubuntu2204/x86_64  InRelease\n",
            "Hit:3 https://deb.nodesource.com/node_20.x nodistro InRelease\n",
            "Hit:4 http://security.ubuntu.com/ubuntu jammy-security InRelease\n",
            "Hit:5 http://archive.ubuntu.com/ubuntu jammy InRelease\n",
            "Hit:6 http://archive.ubuntu.com/ubuntu jammy-updates InRelease\n",
            "Hit:7 http://archive.ubuntu.com/ubuntu jammy-backports InRelease\n",
            "Hit:8 https://ppa.launchpadcontent.net/c2d4u.team/c2d4u4.0+/ubuntu jammy InRelease\n",
            "Hit:9 https://ppa.launchpadcontent.net/deadsnakes/ppa/ubuntu jammy InRelease\n",
            "Hit:10 https://ppa.launchpadcontent.net/graphics-drivers/ppa/ubuntu jammy InRelease\n",
            "Hit:11 https://ppa.launchpadcontent.net/ubuntugis/ppa/ubuntu jammy InRelease\n",
            "Reading package lists... Done\n",
            "Reading package lists... Done\n",
            "Building dependency tree... Done\n",
            "Reading state information... Done\n",
            "ca-certificates is already the newest version (20230311ubuntu0.22.04.1).\n",
            "curl is already the newest version (7.81.0-1ubuntu1.14).\n",
            "gnupg is already the newest version (2.2.27-3ubuntu2.1).\n",
            "0 upgraded, 0 newly installed, 0 to remove and 15 not upgraded.\n",
            "gpg: cannot open '/dev/tty': No such device or address\n",
            "curl: (23) Failed writing body\n",
            "deb [signed-by=/etc/apt/keyrings/nodesource.gpg] https://deb.nodesource.com/node_20.x nodistro main\n",
            "Hit:1 https://cloud.r-project.org/bin/linux/ubuntu jammy-cran40/ InRelease\n",
            "Hit:2 https://developer.download.nvidia.com/compute/cuda/repos/ubuntu2204/x86_64  InRelease\n",
            "Hit:3 https://deb.nodesource.com/node_20.x nodistro InRelease\n",
            "Hit:4 http://security.ubuntu.com/ubuntu jammy-security InRelease\n",
            "Hit:5 http://archive.ubuntu.com/ubuntu jammy InRelease\n",
            "Hit:6 http://archive.ubuntu.com/ubuntu jammy-updates InRelease\n",
            "Hit:7 http://archive.ubuntu.com/ubuntu jammy-backports InRelease\n",
            "Hit:8 https://ppa.launchpadcontent.net/c2d4u.team/c2d4u4.0+/ubuntu jammy InRelease\n",
            "Hit:9 https://ppa.launchpadcontent.net/deadsnakes/ppa/ubuntu jammy InRelease\n",
            "Hit:10 https://ppa.launchpadcontent.net/graphics-drivers/ppa/ubuntu jammy InRelease\n",
            "Hit:11 https://ppa.launchpadcontent.net/ubuntugis/ppa/ubuntu jammy InRelease\n",
            "Reading package lists... Done\n",
            "Reading package lists... Done\n",
            "Building dependency tree... Done\n",
            "Reading state information... Done\n",
            "nodejs is already the newest version (20.10.0-1nodesource1).\n",
            "0 upgraded, 0 newly installed, 0 to remove and 15 not upgraded.\n",
            "v20.10.0\n"
          ]
        }
      ],
      "source": [
        "# Import required Python package\n",
        "!pip install pandas\n",
        "\n",
        "# Install Node.js (because tweet-harvest built using Node.js)\n",
        "!sudo apt-get update\n",
        "!sudo apt-get install -y ca-certificates curl gnupg\n",
        "!sudo mkdir -p /etc/apt/keyrings\n",
        "!curl -fsSL https://deb.nodesource.com/gpgkey/nodesource-repo.gpg.key | sudo gpg --dearmor -o /etc/apt/keyrings/nodesource.gpg\n",
        "\n",
        "!NODE_MAJOR=20 && echo \"deb [signed-by=/etc/apt/keyrings/nodesource.gpg] https://deb.nodesource.com/node_$NODE_MAJOR.x nodistro main\" | sudo tee /etc/apt/sources.list.d/nodesource.list\n",
        "\n",
        "!sudo apt-get update\n",
        "!sudo apt-get install nodejs -y\n",
        "\n",
        "!node -v"
      ]
    },
    {
      "cell_type": "code",
      "source": [
        "# Crawl Data\n",
        "\n",
        "filename = 'sample.csv'\n",
        "search_keyword = 'COVID AND Surabaya lang:id -#'\n",
        "limit = 1500\n",
        "\n",
        "!npx --yes tweet-harvest@2.2.8 -o \"{filename}\" -s \"{search_keyword}\" -l {limit} --token {twitter_auth_token}"
      ],
      "metadata": {
        "id": "LYDR51dJlVlX",
        "colab": {
          "base_uri": "https://localhost:8080/"
        },
        "outputId": "51cd3be2-388c-4480-b4fb-92f6e922c384"
      },
      "execution_count": 4,
      "outputs": [
        {
          "output_type": "stream",
          "name": "stdout",
          "text": [
            "\u001b[1m\u001b[22m\n",
            "\u001b[1mWelcome to the Twitter Crawler 🕷️\u001b[22m\n",
            "\u001b[1m\u001b[22m\n",
            "This script uses Chromium Browser to crawl data from Twitter with *your* Twitter auth token.\n",
            "Please enter your Twitter auth token when prompted.\n",
            "\n",
            "Note: Keep your access token secret! Don't share it with anyone else.\n",
            "Note: This script only runs on your local device.\n",
            "\n",
            "\u001b[K\u001b[?25h\n",
            "up to date, audited 4 packages in 1s\n",
            "\n",
            "found \u001b[32m\u001b[1m0\u001b[22m\u001b[39m vulnerabilities\n",
            "Installing dependencies...\n",
            "Hit:1 http://archive.ubuntu.com/ubuntu jammy InRelease\n",
            "Hit:2 https://cloud.r-project.org/bin/linux/ubuntu jammy-cran40/ InRelease\n",
            "Hit:3 https://developer.download.nvidia.com/compute/cuda/repos/ubuntu2204/x86_64  InRelease\n",
            "Hit:4 https://deb.nodesource.com/node_20.x nodistro InRelease\n",
            "Hit:5 http://archive.ubuntu.com/ubuntu jammy-updates InRelease\n",
            "Hit:6 http://security.ubuntu.com/ubuntu jammy-security InRelease\n",
            "Hit:7 http://archive.ubuntu.com/ubuntu jammy-backports InRelease\n",
            "Hit:8 https://ppa.launchpadcontent.net/c2d4u.team/c2d4u4.0+/ubuntu jammy InRelease\n",
            "Hit:9 https://ppa.launchpadcontent.net/deadsnakes/ppa/ubuntu jammy InRelease\n",
            "Hit:10 https://ppa.launchpadcontent.net/graphics-drivers/ppa/ubuntu jammy InRelease\n",
            "Hit:11 https://ppa.launchpadcontent.net/ubuntugis/ppa/ubuntu jammy InRelease\n",
            "Reading package lists... Done\n",
            "Reading package lists... Done\n",
            "Building dependency tree... Done\n",
            "Reading state information... Done\n",
            "fonts-freefont-ttf is already the newest version (20120503-10build1).\n",
            "fonts-liberation is already the newest version (1:1.07.4-11).\n",
            "libasound2 is already the newest version (1.2.6.1-1ubuntu1).\n",
            "libatk-bridge2.0-0 is already the newest version (2.38.0-3).\n",
            "libatk1.0-0 is already the newest version (2.36.0-3build1).\n",
            "libatspi2.0-0 is already the newest version (2.44.0-3).\n",
            "libcairo2 is already the newest version (1.16.0-5ubuntu2).\n",
            "libfontconfig1 is already the newest version (2.13.1-4.2ubuntu5).\n",
            "libnspr4 is already the newest version (2:4.32-3build1).\n",
            "libxcb1 is already the newest version (1.14-3ubuntu3).\n",
            "libxcomposite1 is already the newest version (1:0.4.5-1build2).\n",
            "libxdamage1 is already the newest version (1:1.1.5-2build2).\n",
            "libxext6 is already the newest version (2:1.3.4-1build1).\n",
            "libxfixes3 is already the newest version (1:6.0.0-1).\n",
            "libxkbcommon0 is already the newest version (1.4.0-1).\n",
            "libxrandr2 is already the newest version (2:1.5.2-1build1).\n",
            "xfonts-scalable is already the newest version (1:1.0.3-1.2ubuntu1).\n",
            "fonts-ipafont-gothic is already the newest version (00303-21ubuntu1).\n",
            "fonts-tlwg-loma-otf is already the newest version (1:0.7.3-1).\n",
            "fonts-unifont is already the newest version (1:14.0.01-1).\n",
            "fonts-wqy-zenhei is already the newest version (0.9.45-8).\n",
            "xfonts-cyrillic is already the newest version (1:1.0.5).\n",
            "fonts-noto-color-emoji is already the newest version (2.038-0ubuntu1).\n",
            "libcups2 is already the newest version (2.4.1op1-1ubuntu4.7).\n",
            "libdbus-1-3 is already the newest version (1.12.20-2ubuntu4.1).\n",
            "libdrm2 is already the newest version (2.4.113-2~ubuntu0.22.04.1).\n",
            "libfreetype6 is already the newest version (2.11.1+dfsg-1ubuntu0.2).\n",
            "libgbm1 is already the newest version (23.0.4-0ubuntu1~22.04.1).\n",
            "libglib2.0-0 is already the newest version (2.72.4-0ubuntu2.2).\n",
            "libnss3 is already the newest version (2:3.68.2-0ubuntu1.2).\n",
            "libpango-1.0-0 is already the newest version (1.50.6+ds-2ubuntu1).\n",
            "libwayland-client0 is already the newest version (1.20.0-1ubuntu0.1).\n",
            "libx11-6 is already the newest version (2:1.7.5-1ubuntu0.3).\n",
            "xvfb is already the newest version (2:21.1.4-2ubuntu1.7~22.04.2).\n",
            "0 upgraded, 0 newly installed, 0 to remove and 15 not upgraded.\n",
            "\u001b[34m\u001b[39m\n",
            "\u001b[34mOpening twitter search page...\u001b[39m\n",
            "\u001b[34m\u001b[39m\n",
            "\u001b[33m\u001b[39m\n",
            "\u001b[33mFilling in keywords: COVID AND Surabaya lang:id -#\u001b[39m\n",
            "\u001b[33m\u001b[39m\n",
            "\u001b[34m\u001b[39m\n",
            "\u001b[34mGot some tweets, saving to file...\u001b[39m\n",
            "\u001b[34mYour tweets saved to: /content/tweets-data/sample.csv\u001b[39m\n",
            "\u001b[33mTotal tweets saved: 8\u001b[39m\n",
            "\u001b[90mScrolling more...\u001b[39m\n",
            "\u001b[34m\u001b[39m\n",
            "\u001b[34mGot some tweets, saving to file...\u001b[39m\n",
            "\u001b[34mYour tweets saved to: /content/tweets-data/sample.csv\u001b[39m\n",
            "\u001b[33mTotal tweets saved: 11\u001b[39m\n",
            "\u001b[34m\u001b[39m\n",
            "\u001b[34mGot some tweets, saving to file...\u001b[39m\n",
            "\u001b[34mYour tweets saved to: /content/tweets-data/sample.csv\u001b[39m\n",
            "\u001b[33mTotal tweets saved: 14\u001b[39m\n",
            "\u001b[34m\u001b[39m\n",
            "\u001b[34mGot some tweets, saving to file...\u001b[39m\n",
            "\u001b[34mYour tweets saved to: /content/tweets-data/sample.csv\u001b[39m\n",
            "\u001b[33mTotal tweets saved: 15\u001b[39m\n",
            "\u001b[34m\u001b[39m\n",
            "\u001b[34mGot some tweets, saving to file...\u001b[39m\n",
            "\u001b[34mYour tweets saved to: /content/tweets-data/sample.csv\u001b[39m\n",
            "\u001b[33mTotal tweets saved: 20\u001b[39m\n",
            "\u001b[34m\u001b[39m\n",
            "\u001b[34mGot some tweets, saving to file...\u001b[39m\n",
            "\u001b[34mYour tweets saved to: /content/tweets-data/sample.csv\u001b[39m\n",
            "\u001b[33mTotal tweets saved: 38\u001b[39m\n",
            "\u001b[34m\u001b[39m\n",
            "\u001b[34mGot some tweets, saving to file...\u001b[39m\n",
            "\u001b[34mYour tweets saved to: /content/tweets-data/sample.csv\u001b[39m\n",
            "\u001b[33mTotal tweets saved: 51\u001b[39m\n",
            "\u001b[34m\u001b[39m\n",
            "\u001b[34mGot some tweets, saving to file...\u001b[39m\n",
            "\u001b[34mYour tweets saved to: /content/tweets-data/sample.csv\u001b[39m\n",
            "\u001b[33mTotal tweets saved: 61\u001b[39m\n",
            "\u001b[34m\u001b[39m\n",
            "\u001b[34mGot some tweets, saving to file...\u001b[39m\n",
            "\u001b[34mYour tweets saved to: /content/tweets-data/sample.csv\u001b[39m\n",
            "\u001b[33mTotal tweets saved: 78\u001b[39m\n",
            "\u001b[34m\u001b[39m\n",
            "\u001b[34mGot some tweets, saving to file...\u001b[39m\n",
            "\u001b[34mYour tweets saved to: /content/tweets-data/sample.csv\u001b[39m\n",
            "\u001b[33mTotal tweets saved: 92\u001b[39m\n",
            "\u001b[90mScrolling more...\u001b[39m\n",
            "\u001b[34m\u001b[39m\n",
            "\u001b[34mGot some tweets, saving to file...\u001b[39m\n",
            "\u001b[34mYour tweets saved to: /content/tweets-data/sample.csv\u001b[39m\n",
            "\u001b[33mTotal tweets saved: 109\u001b[39m\n",
            "\u001b[90m\u001b[39m\n",
            "\u001b[90m--Taking a break, waiting for 10 seconds...\u001b[39m\n",
            "\u001b[34m\u001b[39m\n",
            "\u001b[34mGot some tweets, saving to file...\u001b[39m\n",
            "\u001b[34mYour tweets saved to: /content/tweets-data/sample.csv\u001b[39m\n",
            "\u001b[33mTotal tweets saved: 127\u001b[39m\n",
            "\u001b[34m\u001b[39m\n",
            "\u001b[34mGot some tweets, saving to file...\u001b[39m\n",
            "\u001b[34mYour tweets saved to: /content/tweets-data/sample.csv\u001b[39m\n",
            "\u001b[33mTotal tweets saved: 146\u001b[39m\n",
            "\u001b[90mScrolling more...\u001b[39m\n",
            "\u001b[34m\u001b[39m\n",
            "\u001b[34mGot some tweets, saving to file...\u001b[39m\n",
            "\u001b[34mYour tweets saved to: /content/tweets-data/sample.csv\u001b[39m\n",
            "\u001b[33mTotal tweets saved: 164\u001b[39m\n",
            "\u001b[34m\u001b[39m\n",
            "\u001b[34mGot some tweets, saving to file...\u001b[39m\n",
            "\u001b[34mYour tweets saved to: /content/tweets-data/sample.csv\u001b[39m\n",
            "\u001b[33mTotal tweets saved: 182\u001b[39m\n",
            "\u001b[34m\u001b[39m\n",
            "\u001b[34mGot some tweets, saving to file...\u001b[39m\n",
            "\u001b[34mYour tweets saved to: /content/tweets-data/sample.csv\u001b[39m\n",
            "\u001b[33mTotal tweets saved: 199\u001b[39m\n",
            "\u001b[34m\u001b[39m\n",
            "\u001b[34mGot some tweets, saving to file...\u001b[39m\n",
            "\u001b[34mYour tweets saved to: /content/tweets-data/sample.csv\u001b[39m\n",
            "\u001b[33mTotal tweets saved: 216\u001b[39m\n",
            "\u001b[90m\u001b[39m\n",
            "\u001b[90m--Taking a break, waiting for 10 seconds...\u001b[39m\n",
            "\u001b[90mScrolling more...\u001b[39m\n",
            "\u001b[34m\u001b[39m\n",
            "\u001b[34mGot some tweets, saving to file...\u001b[39m\n",
            "\u001b[34mYour tweets saved to: /content/tweets-data/sample.csv\u001b[39m\n",
            "\u001b[33mTotal tweets saved: 233\u001b[39m\n",
            "\u001b[34m\u001b[39m\n",
            "\u001b[34mGot some tweets, saving to file...\u001b[39m\n",
            "\u001b[34mYour tweets saved to: /content/tweets-data/sample.csv\u001b[39m\n",
            "\u001b[33mTotal tweets saved: 239\u001b[39m\n",
            "\u001b[34m\u001b[39m\n",
            "\u001b[34mGot some tweets, saving to file...\u001b[39m\n",
            "No more tweets found, please check your search criteria and csv file result\n",
            "\u001b[90mScrolling more...\u001b[39m\n",
            "\u001b[90mScrolling more...\u001b[39m\n",
            "\u001b[90mScrolling more...\u001b[39m\n",
            "\u001b[90mScrolling more...\u001b[39m\n",
            "Already got 239 tweets, done scrolling...\n"
          ]
        }
      ]
    },
    {
      "cell_type": "code",
      "execution_count": 5,
      "metadata": {
        "collapsed": true,
        "id": "HvAG3hPvQDqk",
        "colab": {
          "base_uri": "https://localhost:8080/"
        },
        "outputId": "759b1f85-2490-434c-bcbb-3a40e04a624a"
      },
      "outputs": [
        {
          "output_type": "stream",
          "name": "stdout",
          "text": [
            "                         created_at               id_str  \\\n",
            "0    Thu Nov 30 14:10:55 +0000 2023  1730227915432841520   \n",
            "1    Thu Nov 30 05:29:12 +0000 2023  1730096620380033250   \n",
            "2    Wed Nov 29 09:18:05 +0000 2023  1729791834287677870   \n",
            "3    Wed Nov 29 05:28:05 +0000 2023  1729733953089655022   \n",
            "4    Mon Nov 27 08:32:48 +0000 2023  1729055658761462180   \n",
            "..                              ...                  ...   \n",
            "234  Sun May 07 22:46:36 +0000 2023  1655343401750110208   \n",
            "235  Sun May 07 17:50:48 +0000 2023  1655268962907860993   \n",
            "236  Sun May 07 02:15:03 +0000 2023  1655033473160343552   \n",
            "237  Sun May 07 01:53:31 +0000 2023  1655028052529926144   \n",
            "238  Sat May 06 19:23:57 +0000 2023  1654930017254768642   \n",
            "\n",
            "                                             full_text  quote_count  \\\n",
            "0    BI sebut QRIS Selamatkan Indonesia dari Krisis...            0   \n",
            "1    @kompascom Buanyak sekali usia 40 an yg pengan...            0   \n",
            "2    @Aditya5803 @widodo_naufal @Goldmind_82 Tapi h...            0   \n",
            "3    @mawakresna @widiguruh @gibran_tweet - Kota So...            0   \n",
            "4    Rail Clinic Kembali Hadir untuk Masyarakat. Se...            0   \n",
            "..                                                 ...          ...   \n",
            "234  Semakin Meningkat di Jatim, Ketahui Gejala Cov...            0   \n",
            "235  Organisasi Kesehatan Dunia (WHO) secara resmi ...            0   \n",
            "236  Jadwal dan Lokasi Vaksin Covid-19 Surabaya Har...            0   \n",
            "237  #BeritaJatim  Jadwal dan Lokasi Vaksin Covid-1...            0   \n",
            "238  @e100ss Ketika WHO sudah bilang BEBAS COVID, w...            0   \n",
            "\n",
            "     reply_count  retweet_count  favorite_count lang          user_id_str  \\\n",
            "0              0              0               3   in            848614550   \n",
            "1              0              1               8   in  1642627278789283840   \n",
            "2              0              0               0   in  1087923769279160325   \n",
            "3              2              0               0   in  1661564597709705216   \n",
            "4              0              0               0   in  1431834038315094016   \n",
            "..           ...            ...             ...  ...                  ...   \n",
            "234            0              0               0   in             21287066   \n",
            "235            0              0               0   in  1359364190419341314   \n",
            "236            0              0               0   in             79130206   \n",
            "237            0              0               0   in             79130206   \n",
            "238            0              0               1   in            228252511   \n",
            "\n",
            "     conversation_id_str         username  \\\n",
            "0    1730227915432841520           e100ss   \n",
            "1    1730088050611650691  JendralKepitin9   \n",
            "2    1729686908815528152         Sangwa24   \n",
            "3    1729401854306775505         omygbaik   \n",
            "4    1729055658761462180      bumnsbyjitu   \n",
            "..                   ...              ...   \n",
            "234  1655343401750110208   beritajatimcom   \n",
            "235  1655268962907860993          CelahId   \n",
            "236  1655033473160343552          jpnncom   \n",
            "237  1655028052529926144          jpnncom   \n",
            "238  1654681068858122240          NuchaNC   \n",
            "\n",
            "                                             tweet_url  \n",
            "0    https://twitter.com/e100ss/status/173022791543...  \n",
            "1    https://twitter.com/JendralKepitin9/status/173...  \n",
            "2    https://twitter.com/Sangwa24/status/1729791834...  \n",
            "3    https://twitter.com/omygbaik/status/1729733953...  \n",
            "4    https://twitter.com/bumnsbyjitu/status/1729055...  \n",
            "..                                                 ...  \n",
            "234  https://twitter.com/beritajatimcom/status/1655...  \n",
            "235  https://twitter.com/CelahId/status/16552689629...  \n",
            "236  https://twitter.com/jpnncom/status/16550334731...  \n",
            "237  https://twitter.com/jpnncom/status/16550280525...  \n",
            "238  https://twitter.com/NuchaNC/status/16549300172...  \n",
            "\n",
            "[239 rows x 12 columns]\n"
          ]
        }
      ],
      "source": [
        "import pandas as pd\n",
        "\n",
        "csv_file_path = f\"tweets-data/{filename}\"\n",
        "\n",
        "tweets_df = pd.read_csv(csv_file_path, delimiter=';')\n",
        "\n",
        "# Show DataFrame\n",
        "print(tweets_df)"
      ]
    },
    {
      "cell_type": "code",
      "execution_count": 7,
      "metadata": {
        "id": "eRfDl54waHC4",
        "colab": {
          "base_uri": "https://localhost:8080/"
        },
        "outputId": "abd29058-6edc-4793-b515-c915dfcd7e66"
      },
      "outputs": [
        {
          "output_type": "stream",
          "name": "stdout",
          "text": [
            "Jumlah tweet dalam dataframe adalah 239.\n"
          ]
        }
      ],
      "source": [
        "# Cek jumlah data yang didapatkan\n",
        "\n",
        "num_tweets = len(tweets_df)\n",
        "print(f\"Jumlah tweet dalam dataframe adalah {num_tweets}.\")"
      ]
    },
    {
      "cell_type": "markdown",
      "source": [
        "####  Jumlah tweet depends dari keyword Anda! Memungkinkan hingga 1500 tweet/run"
      ],
      "metadata": {
        "id": "m2Agfpy_8olg"
      }
    }
  ],
  "metadata": {
    "colab": {
      "provenance": []
    },
    "kernelspec": {
      "display_name": "Python 3",
      "name": "python3"
    },
    "language_info": {
      "name": "python"
    }
  },
  "nbformat": 4,
  "nbformat_minor": 0
}