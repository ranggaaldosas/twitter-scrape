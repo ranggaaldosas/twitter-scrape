{
  "cells": [
    {
      "cell_type": "code",
      "execution_count": null,
      "metadata": {
        "id": "6S00x_f6-GeD"
      },
      "outputs": [],
      "source": [
        "# Your Twitter Auth Token\n",
        "# Where to get?\n",
        "# 1. Signed in -> Inspect\n",
        "# 2. Application tab\n",
        "# 3. In the storage sidebar, choose cookies\n",
        "\n",
        "\n",
        "twitter_auth_token = \"your_auth_token\""
      ]
    },
    {
      "cell_type": "code",
      "execution_count": null,
      "metadata": {
        "colab": {
          "base_uri": "https://localhost:8080/",
          "height": 846
        },
        "id": "uTkKHCz34pgS",
        "outputId": "45d68c05-3fd0-414f-d8a4-cb7a718ec8fc"
      },
      "outputs": [],
      "source": [
        "# Unnecesary cell to run! a simple demonstration to get your auth token\n",
        "!pip install ipython\n",
        "\n",
        "from IPython.display import Image\n",
        "\n",
        "# Display an image from a URL\n",
        "Image(url='https://i.ibb.co/VgKBSMY/Screenshot-6.png')"
      ]
    },
    {
      "cell_type": "code",
      "execution_count": null,
      "metadata": {
        "colab": {
          "base_uri": "https://localhost:8080/"
        },
        "collapsed": true,
        "id": "4UIL1x21P9rQ",
        "outputId": "085a31d7-b566-4c82-a822-52bd9f5a57b8"
      },
      "outputs": [],
      "source": [
        "# Import required Python package\n",
        "!pip install pandas\n",
        "\n",
        "# Install Node.js (because tweet-harvest built using Node.js)\n",
        "!sudo apt-get update\n",
        "!sudo apt-get install -y ca-certificates curl gnupg\n",
        "!sudo mkdir -p /etc/apt/keyrings\n",
        "!curl -fsSL https://deb.nodesource.com/gpgkey/nodesource-repo.gpg.key | sudo gpg --dearmor -o /etc/apt/keyrings/nodesource.gpg\n",
        "\n",
        "!NODE_MAJOR=20 && echo \"deb [signed-by=/etc/apt/keyrings/nodesource.gpg] https://deb.nodesource.com/node_$NODE_MAJOR.x nodistro main\" | sudo tee /etc/apt/sources.list.d/nodesource.list\n",
        "\n",
        "!sudo apt-get update\n",
        "!sudo apt-get install nodejs -y\n",
        "\n",
        "!node -v"
      ]
    },
    {
      "cell_type": "code",
      "execution_count": null,
      "metadata": {
        "colab": {
          "base_uri": "https://localhost:8080/"
        },
        "id": "LYDR51dJlVlX",
        "outputId": "51cd3be2-388c-4480-b4fb-92f6e922c384"
      },
      "outputs": [],
      "source": [
        "# Crawl Data\n",
        "\n",
        "filename = 'pandemic_surabaya.csv'\n",
        "search_keyword = 'covid Surabaya OR \"Surabaya\" lang:id'\n",
        "limit = 1500\n",
        "\n",
        "!npx --yes tweet-harvest@2.2.8 -o \"{filename}\" -s \"{search_keyword}\" -l {limit} --token {twitter_auth_token}"
      ]
    },
    {
      "cell_type": "code",
      "execution_count": null,
      "metadata": {
        "colab": {
          "base_uri": "https://localhost:8080/"
        },
        "collapsed": true,
        "id": "HvAG3hPvQDqk",
        "outputId": "759b1f85-2490-434c-bcbb-3a40e04a624a"
      },
      "outputs": [],
      "source": [
        "import pandas as pd\n",
        "\n",
        "csv_file_path = f\"tweets-data/{filename}\"\n",
        "\n",
        "tweets_df = pd.read_csv(csv_file_path, delimiter=\";\")\n",
        "\n",
        "# Show DataFrame\n",
        "print(tweets_df)"
      ]
    },
    {
      "cell_type": "code",
      "execution_count": null,
      "metadata": {
        "colab": {
          "base_uri": "https://localhost:8080/"
        },
        "id": "eRfDl54waHC4",
        "outputId": "abd29058-6edc-4793-b515-c915dfcd7e66"
      },
      "outputs": [],
      "source": [
        "# Cek jumlah data yang didapatkan\n",
        "\n",
        "num_tweets = len(tweets_df)\n",
        "print(f\"Jumlah tweet dalam dataframe adalah {num_tweets}.\")"
      ]
    },
    {
      "cell_type": "markdown",
      "metadata": {
        "id": "m2Agfpy_8olg"
      },
      "source": [
        "#### Jumlah tweet depends dari keyword Anda! Memungkinkan hingga 1500 tweet/run\n"
      ]
    }
  ],
  "metadata": {
    "colab": {
      "provenance": []
    },
    "kernelspec": {
      "display_name": "Python 3",
      "name": "python3"
    },
    "language_info": {
      "codemirror_mode": {
        "name": "ipython",
        "version": 3
      },
      "file_extension": ".py",
      "mimetype": "text/x-python",
      "name": "python",
      "nbconvert_exporter": "python",
      "pygments_lexer": "ipython3",
      "version": "3.11.5"
    }
  },
  "nbformat": 4,
  "nbformat_minor": 0
}
